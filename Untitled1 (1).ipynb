{
  "nbformat": 4,
  "nbformat_minor": 0,
  "metadata": {
    "colab": {
      "provenance": []
    },
    "kernelspec": {
      "name": "python3",
      "display_name": "Python 3"
    },
    "language_info": {
      "name": "python"
    }
  },
  "cells": [
    {
      "cell_type": "code",
      "execution_count": 4,
      "metadata": {
        "colab": {
          "base_uri": "https://localhost:8080/"
        },
        "id": "R46FIIclJfPh",
        "outputId": "7a6b44c4-d359-407f-9ede-1feb937d438b"
      },
      "outputs": [
        {
          "output_type": "stream",
          "name": "stderr",
          "text": [
            "2024-11-19 02:02:21.281 Thread 'MainThread': missing ScriptRunContext! This warning can be ignored when running in bare mode.\n",
            "2024-11-19 02:02:21.285 Thread 'MainThread': missing ScriptRunContext! This warning can be ignored when running in bare mode.\n",
            "2024-11-19 02:02:21.288 Thread 'MainThread': missing ScriptRunContext! This warning can be ignored when running in bare mode.\n",
            "2024-11-19 02:02:21.290 Thread 'MainThread': missing ScriptRunContext! This warning can be ignored when running in bare mode.\n",
            "2024-11-19 02:02:21.292 Thread 'MainThread': missing ScriptRunContext! This warning can be ignored when running in bare mode.\n",
            "2024-11-19 02:02:21.294 Thread 'MainThread': missing ScriptRunContext! This warning can be ignored when running in bare mode.\n",
            "2024-11-19 02:02:21.295 Thread 'MainThread': missing ScriptRunContext! This warning can be ignored when running in bare mode.\n",
            "2024-11-19 02:02:21.297 Thread 'MainThread': missing ScriptRunContext! This warning can be ignored when running in bare mode.\n",
            "2024-11-19 02:02:21.298 Thread 'MainThread': missing ScriptRunContext! This warning can be ignored when running in bare mode.\n",
            "2024-11-19 02:02:21.299 Thread 'MainThread': missing ScriptRunContext! This warning can be ignored when running in bare mode.\n",
            "2024-11-19 02:02:21.300 Thread 'MainThread': missing ScriptRunContext! This warning can be ignored when running in bare mode.\n"
          ]
        }
      ],
      "source": [
        "import streamlit as st\n",
        "import pandas as pd\n",
        "\n",
        "# Title of the app\n",
        "st.title('Interactive Censorship Data Visualization App')\n",
        "\n",
        "# File uploader for the CSV file\n",
        "uploaded_file = st.file_uploader(\"Book2.csv\", type=[\"csv\"])\n",
        "\n",
        "if uploaded_file is not None:\n",
        "    # Load the uploaded CSV file into a DataFrame\n",
        "    df = pd.read_csv(uploaded_file)\n",
        "\n",
        "    # Display the dataset\n",
        "    st.write(\"Sales Data:\")\n",
        "    st.write(df)\n",
        "\n",
        "    # Let the user select columns for the chart\n",
        "    columns = df.columns.tolist()\n",
        "\n",
        "    # Dropdowns for X and Y axes selection\n",
        "    x_axis = st.selectbox('Select column for X-axis', columns)\n",
        "    y_axis = st.selectbox('Select column for Y-axis', columns)\n",
        "\n",
        "    # Choose chart type: Bar Chart or Line Chart\n",
        "    chart_type = st.selectbox('Select chart type', ['Bar Chart', 'Line Chart'])\n",
        "\n",
        "    # Display chart based on user selections\n",
        "    if chart_type == 'Bar Chart':\n",
        "        st.bar_chart(df[[x_axis, y_axis]].set_index(x_axis))\n",
        "    elif chart_type == 'Line Chart':\n",
        "        st.line_chart(df[[x_axis, y_axis]].set_index(x_axis))\n",
        "else:\n",
        "    st.write(\"Please upload a CSV file to proceed.\")\n"
      ]
    }
  ]
}