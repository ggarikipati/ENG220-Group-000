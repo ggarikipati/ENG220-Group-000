{
  "nbformat": 4,
  "nbformat_minor": 0,
  "metadata": {
    "colab": {
      "provenance": []
    },
    "kernelspec": {
      "name": "python3",
      "display_name": "Python 3"
    },
    "language_info": {
      "name": "python"
    }
  },
  "cells": [
    {
      "cell_type": "code",
      "source": [
        "import streamlit as st\n",
        "import pandas as pd\n",
        "\n",
        "# Title of the app\n",
        "st.title('Interactive Censorship Data Visualization App')\n",
        "\n",
        "# File uploader for the CSV file\n",
        "uploaded_file = st.file_uploader(\"Book2.csv\", type=[\"csv\"])\n",
        "\n",
        "if uploaded_file is not None:\n",
        "    # Load the uploaded CSV file into a DataFrame\n",
        "    df = pd.read_csv(uploaded_file)\n",
        "\n",
        "    # Display the dataset\n",
        "    st.write(\"Sales Data:\")\n",
        "    st.write(df)\n",
        "\n",
        "    # Let the user select columns for the chart\n",
        "    columns = df.columns.tolist()\n",
        "\n",
        "    # Dropdowns for X and Y axes selection\n",
        "    x_axis = st.selectbox('Select column for X-axis', columns)\n",
        "    y_axis = st.selectbox('Select column for Y-axis', columns)\n",
        "\n",
        "    # Choose chart type: Bar Chart or Line Chart\n",
        "    chart_type = st.selectbox('Select chart type', ['Bar Chart', 'Line Chart'])\n",
        "\n",
        "    # Display chart based on user selections\n",
        "    if chart_type == 'Bar Chart':\n",
        "        st.bar_chart(df[[x_axis, y_axis]].set_index(x_axis))\n",
        "    elif chart_type == 'Line Chart':\n",
        "        st.line_chart(df[[x_axis, y_axis]].set_index(x_axis))\n",
        "else:\n",
        "    st.write(\"Please upload a CSV file to proceed.\")\n"
      ],
      "metadata": {
        "colab": {
          "base_uri": "https://localhost:8080/"
        },
        "id": "uy-82q2Vo3zE",
        "outputId": "5074af6c-5a84-424e-ffdd-8fd7f4ffa46e"
      },
      "execution_count": 3,
      "outputs": [
        {
          "output_type": "stream",
          "name": "stderr",
          "text": [
            "2024-11-19 01:56:33.481 Thread 'MainThread': missing ScriptRunContext! This warning can be ignored when running in bare mode.\n",
            "2024-11-19 01:56:33.484 Thread 'MainThread': missing ScriptRunContext! This warning can be ignored when running in bare mode.\n",
            "2024-11-19 01:56:33.488 Thread 'MainThread': missing ScriptRunContext! This warning can be ignored when running in bare mode.\n",
            "2024-11-19 01:56:33.491 Thread 'MainThread': missing ScriptRunContext! This warning can be ignored when running in bare mode.\n",
            "2024-11-19 01:56:33.493 Thread 'MainThread': missing ScriptRunContext! This warning can be ignored when running in bare mode.\n",
            "2024-11-19 01:56:33.497 Thread 'MainThread': missing ScriptRunContext! This warning can be ignored when running in bare mode.\n",
            "2024-11-19 01:56:33.500 Thread 'MainThread': missing ScriptRunContext! This warning can be ignored when running in bare mode.\n",
            "2024-11-19 01:56:33.506 Thread 'MainThread': missing ScriptRunContext! This warning can be ignored when running in bare mode.\n",
            "2024-11-19 01:56:33.507 Thread 'MainThread': missing ScriptRunContext! This warning can be ignored when running in bare mode.\n",
            "2024-11-19 01:56:33.509 Thread 'MainThread': missing ScriptRunContext! This warning can be ignored when running in bare mode.\n",
            "2024-11-19 01:56:33.514 Thread 'MainThread': missing ScriptRunContext! This warning can be ignored when running in bare mode.\n"
          ]
        }
      ]
    }
  ]
}