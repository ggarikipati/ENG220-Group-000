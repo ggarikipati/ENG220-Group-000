{
  "nbformat": 4,
  "nbformat_minor": 0,
  "metadata": {
    "colab": {
      "provenance": []
    },
    "kernelspec": {
      "name": "python3",
      "display_name": "Python 3"
    },
    "language_info": {
      "name": "python"
    }
  },
  "cells": [
    {
      "cell_type": "code",
      "source": [
        "import streamlit as st\n",
        "import pandas as pd\n",
        "\n",
        "# Title of the app\n",
        "st.title('Interactive Censorship Data Visualization App')\n",
        "\n",
        "# File uploader for the CSV file\n",
        "uploaded_file = st.file_uploader(\"Book2.csv\", type=[\"csv\"])\n",
        "\n",
        "if uploaded_file is not None:\n",
        "    # Load the uploaded CSV file into a DataFrame\n",
        "    df = pd.read_csv(uploaded_file)\n",
        "\n",
        "    # Display the dataset\n",
        "    st.write(\"Sales Data:\")\n",
        "    st.write(df)\n",
        "\n",
        "    # Let the user select columns for the chart\n",
        "    columns = df.columns.tolist()\n",
        "\n",
        "    # Dropdowns for X and Y axes selection\n",
        "    x_axis = st.selectbox('Select column for X-axis', columns)\n",
        "    y_axis = st.selectbox('Select column for Y-axis', columns)\n",
        "\n",
        "    # Choose chart type: Bar Chart or Line Chart\n",
        "    chart_type = st.selectbox('Select chart type', ['Bar Chart', 'Line Chart'])\n",
        "\n",
        "    # Display chart based on user selections\n",
        "    if chart_type == 'Bar Chart':\n",
        "        st.bar_chart(df[[x_axis, y_axis]].set_index(x_axis))\n",
        "    elif chart_type == 'Line Chart':\n",
        "        st.line_chart(df[[x_axis, y_axis]].set_index(x_axis))\n",
        "else:\n",
        "    st.write(\"Please upload a CSV file to proceed.\")\n"
      ],
      "metadata": {
        "colab": {
          "base_uri": "https://localhost:8080/"
        },
        "id": "uy-82q2Vo3zE",
        "outputId": "a2c26b73-2964-4b51-8656-98e2e9cf3446"
      },
      "execution_count": 2,
      "outputs": [
        {
          "output_type": "stream",
          "name": "stderr",
          "text": [
            "2024-11-19 01:48:36.512 WARNING streamlit.runtime.scriptrunner_utils.script_run_context: Thread 'MainThread': missing ScriptRunContext! This warning can be ignored when running in bare mode.\n",
            "2024-11-19 01:48:36.700 \n",
            "  \u001b[33m\u001b[1mWarning:\u001b[0m to view this Streamlit app on a browser, run it with the following\n",
            "  command:\n",
            "\n",
            "    streamlit run /usr/local/lib/python3.10/dist-packages/colab_kernel_launcher.py [ARGUMENTS]\n",
            "2024-11-19 01:48:36.702 Thread 'MainThread': missing ScriptRunContext! This warning can be ignored when running in bare mode.\n",
            "2024-11-19 01:48:36.705 Thread 'MainThread': missing ScriptRunContext! This warning can be ignored when running in bare mode.\n",
            "2024-11-19 01:48:36.707 Thread 'MainThread': missing ScriptRunContext! This warning can be ignored when running in bare mode.\n",
            "2024-11-19 01:48:36.709 Thread 'MainThread': missing ScriptRunContext! This warning can be ignored when running in bare mode.\n",
            "2024-11-19 01:48:36.712 Thread 'MainThread': missing ScriptRunContext! This warning can be ignored when running in bare mode.\n",
            "2024-11-19 01:48:36.714 Thread 'MainThread': missing ScriptRunContext! This warning can be ignored when running in bare mode.\n",
            "2024-11-19 01:48:36.715 Thread 'MainThread': missing ScriptRunContext! This warning can be ignored when running in bare mode.\n",
            "2024-11-19 01:48:36.717 Thread 'MainThread': missing ScriptRunContext! This warning can be ignored when running in bare mode.\n",
            "2024-11-19 01:48:36.718 Thread 'MainThread': missing ScriptRunContext! This warning can be ignored when running in bare mode.\n",
            "2024-11-19 01:48:36.719 Thread 'MainThread': missing ScriptRunContext! This warning can be ignored when running in bare mode.\n"
          ]
        }
      ]
    }
  ]
}